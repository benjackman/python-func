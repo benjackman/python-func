{
 "metadata": {
  "language_info": {
   "codemirror_mode": {
    "name": "ipython",
    "version": 3
   },
   "file_extension": ".py",
   "mimetype": "text/x-python",
   "name": "python",
   "nbconvert_exporter": "python",
   "pygments_lexer": "ipython3",
   "version": "3.5.3-final"
  },
  "orig_nbformat": 2,
  "kernelspec": {
   "name": "Python 3.5.3 64-bit",
   "display_name": "Python 3.5.3 64-bit",
   "metadata": {
    "interpreter": {
     "hash": "31f2aee4e71d21fbe5cf8b01ff0e069b9275f58929596ceb00d14d90e3e16cd6"
    }
   }
  }
 },
 "nbformat": 4,
 "nbformat_minor": 2,
 "cells": [
  {
   "source": [
    "## Description\n",
    "This notebook attempts the 10 quick Python problems by @svpino - https://twitter.com/svpino/status/1309347657408753666?s=20\n",
    "\n",
    "1) Build a function that, given 2 strings \"s1\" and \"s2\", creates a new string by appending \"s2\" in the middle of \"s1\".<br>\n",
    "<br>\n",
    "For example:<br>\n",
    "    s1 = \"something\"<br>\n",
    "    s2 = \"great\"<br>\n",
    "<br>\n",
    "Returns \"somegreatthing\" "
   ],
   "cell_type": "markdown",
   "metadata": {}
  },
  {
   "cell_type": "code",
   "execution_count": 9,
   "metadata": {},
   "outputs": [
    {
     "output_type": "execute_result",
     "data": {
      "text/plain": "'somegreatthing'"
     },
     "metadata": {},
     "execution_count": 9
    }
   ],
   "source": [
    "def splitstring(str1,str2):\n",
    "    str1_1 = str1[:int((len(str1)/2))]\n",
    "    str1_2 = str1[int((len(str1)/2)):]\n",
    "    return(str1_1 + str2 + str1_2)\n",
    "\n",
    "splitstring(\"something\",\"great\")"
   ]
  },
  {
   "source": [
    "2) Build a function that, given a string, reorders its characters so all the uppercase letters come first, and the lowercase letters come last.<br>\n",
    "<br>\n",
    "For example, given \"Hello World\", the function should return \"HWelloorld\"."
   ],
   "cell_type": "markdown",
   "metadata": {}
  },
  {
   "cell_type": "code",
   "execution_count": 48,
   "metadata": {},
   "outputs": [],
   "source": [
    "def reorder(s):\n",
    "    upper_list, lower_list = [], []\n",
    "\n",
    "    for letter in s:\n",
    "        if letter.isupper():\n",
    "            upper_list.append(letter)\n",
    "        elif letter.islower():\n",
    "            lower_list.append(letter)\n",
    "    # upper_list.extend(lower_list)\n",
    "    return(\"\".join(upper_list + lower_list))"
   ]
  },
  {
   "cell_type": "code",
   "execution_count": 51,
   "metadata": {},
   "outputs": [
    {
     "output_type": "execute_result",
     "data": {
      "text/plain": "'HWelloorld'"
     },
     "metadata": {},
     "execution_count": 51
    }
   ],
   "source": [
    "reorder(\"Hello World\")"
   ]
  },
  {
   "source": [
    "3) Build a function that, given a list of values, returns a dictionary with the number of occurrences of each value in the list.<br>\n",
    "<br>\n",
    "For example:<br>\n",
    "    values = \\['a', 'a', 'b', 'c', 'b'\\]<br>\n",
    "    <br>\n",
    "Returns:<br>\n",
    "    {<br>\n",
    "        'a':2<br>\n",
    "        'c':1<br>\n",
    "        'b':2<br>\n",
    "    }\n"
   ],
   "cell_type": "markdown",
   "metadata": {}
  },
  {
   "cell_type": "code",
   "execution_count": 56,
   "metadata": {},
   "outputs": [],
   "source": [
    "def counter_func(list_entry):\n",
    "    count_dict = {}\n",
    "\n",
    "    for element in list_entry:\n",
    "        if element in count_dict:\n",
    "            count_dict[element] += 1\n",
    "        else:\n",
    "            count_dict[element] = 1\n",
    "    return(count_dict)"
   ]
  },
  {
   "cell_type": "code",
   "execution_count": 57,
   "metadata": {},
   "outputs": [
    {
     "output_type": "execute_result",
     "data": {
      "text/plain": "{'a': 2, 'b': 2, 'c': 1}"
     },
     "metadata": {},
     "execution_count": 57
    }
   ],
   "source": [
    "values_list = ['a', 'a', 'b', 'c', 'b']\n",
    "\n",
    "counter_func(values_list)"
   ]
  }
 ]
}